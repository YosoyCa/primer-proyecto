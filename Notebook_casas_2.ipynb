{
 "cells": [
  {
   "cell_type": "markdown",
   "id": "ffcc5fe8",
   "metadata": {},
   "source": [
    "# EJERCICIO MACHINE LEARNING: PREDICCIÓN PRECIO CASAS"
   ]
  },
  {
   "cell_type": "code",
   "execution_count": 2,
   "id": "9418c95b",
   "metadata": {},
   "outputs": [],
   "source": [
    "#Librerías requeridas\n",
    "\n",
    "import pandas as pd\n",
    "import numpy as np\n",
    "import matplotlib.pyplot as plt\n",
    "from sklearn.model_selection import train_test_split\n",
    "from sklearn.linear_model import LinearRegression\n",
    "from sklearn.metrics import mean_squared_error\n",
    "from sklearn.metrics import mean_absolute_error\n",
    "from sklearn.metrics import r2_score\n"
   ]
  },
  {
   "cell_type": "code",
   "execution_count": 3,
   "id": "ab9267f5",
   "metadata": {},
   "outputs": [],
   "source": [
    "#Carga de los datos\n",
    "data = pd.read_csv('kc_house_data.csv', sep = ',')"
   ]
  },
  {
   "cell_type": "code",
   "execution_count": 4,
   "id": "aa7f01d8",
   "metadata": {},
   "outputs": [
    {
     "data": {
      "text/html": [
       "<div>\n",
       "<style scoped>\n",
       "    .dataframe tbody tr th:only-of-type {\n",
       "        vertical-align: middle;\n",
       "    }\n",
       "\n",
       "    .dataframe tbody tr th {\n",
       "        vertical-align: top;\n",
       "    }\n",
       "\n",
       "    .dataframe thead th {\n",
       "        text-align: right;\n",
       "    }\n",
       "</style>\n",
       "<table border=\"1\" class=\"dataframe\">\n",
       "  <thead>\n",
       "    <tr style=\"text-align: right;\">\n",
       "      <th></th>\n",
       "      <th>id</th>\n",
       "      <th>date</th>\n",
       "      <th>price</th>\n",
       "      <th>bedrooms</th>\n",
       "      <th>bathrooms</th>\n",
       "      <th>sqft_living</th>\n",
       "      <th>sqft_lot</th>\n",
       "      <th>floors</th>\n",
       "      <th>waterfront</th>\n",
       "      <th>view</th>\n",
       "      <th>...</th>\n",
       "      <th>grade</th>\n",
       "      <th>sqft_above</th>\n",
       "      <th>sqft_basement</th>\n",
       "      <th>yr_built</th>\n",
       "      <th>yr_renovated</th>\n",
       "      <th>zipcode</th>\n",
       "      <th>lat</th>\n",
       "      <th>long</th>\n",
       "      <th>sqft_living15</th>\n",
       "      <th>sqft_lot15</th>\n",
       "    </tr>\n",
       "  </thead>\n",
       "  <tbody>\n",
       "    <tr>\n",
       "      <th>0</th>\n",
       "      <td>7129300520</td>\n",
       "      <td>20141013T000000</td>\n",
       "      <td>221900.0</td>\n",
       "      <td>3</td>\n",
       "      <td>1.00</td>\n",
       "      <td>1180</td>\n",
       "      <td>5650</td>\n",
       "      <td>1.0</td>\n",
       "      <td>0</td>\n",
       "      <td>0</td>\n",
       "      <td>...</td>\n",
       "      <td>7</td>\n",
       "      <td>1180</td>\n",
       "      <td>0</td>\n",
       "      <td>1955</td>\n",
       "      <td>0</td>\n",
       "      <td>98178</td>\n",
       "      <td>47.5112</td>\n",
       "      <td>-122.257</td>\n",
       "      <td>1340</td>\n",
       "      <td>5650</td>\n",
       "    </tr>\n",
       "    <tr>\n",
       "      <th>1</th>\n",
       "      <td>6414100192</td>\n",
       "      <td>20141209T000000</td>\n",
       "      <td>538000.0</td>\n",
       "      <td>3</td>\n",
       "      <td>2.25</td>\n",
       "      <td>2570</td>\n",
       "      <td>7242</td>\n",
       "      <td>2.0</td>\n",
       "      <td>0</td>\n",
       "      <td>0</td>\n",
       "      <td>...</td>\n",
       "      <td>7</td>\n",
       "      <td>2170</td>\n",
       "      <td>400</td>\n",
       "      <td>1951</td>\n",
       "      <td>1991</td>\n",
       "      <td>98125</td>\n",
       "      <td>47.7210</td>\n",
       "      <td>-122.319</td>\n",
       "      <td>1690</td>\n",
       "      <td>7639</td>\n",
       "    </tr>\n",
       "    <tr>\n",
       "      <th>2</th>\n",
       "      <td>5631500400</td>\n",
       "      <td>20150225T000000</td>\n",
       "      <td>180000.0</td>\n",
       "      <td>2</td>\n",
       "      <td>1.00</td>\n",
       "      <td>770</td>\n",
       "      <td>10000</td>\n",
       "      <td>1.0</td>\n",
       "      <td>0</td>\n",
       "      <td>0</td>\n",
       "      <td>...</td>\n",
       "      <td>6</td>\n",
       "      <td>770</td>\n",
       "      <td>0</td>\n",
       "      <td>1933</td>\n",
       "      <td>0</td>\n",
       "      <td>98028</td>\n",
       "      <td>47.7379</td>\n",
       "      <td>-122.233</td>\n",
       "      <td>2720</td>\n",
       "      <td>8062</td>\n",
       "    </tr>\n",
       "    <tr>\n",
       "      <th>3</th>\n",
       "      <td>2487200875</td>\n",
       "      <td>20141209T000000</td>\n",
       "      <td>604000.0</td>\n",
       "      <td>4</td>\n",
       "      <td>3.00</td>\n",
       "      <td>1960</td>\n",
       "      <td>5000</td>\n",
       "      <td>1.0</td>\n",
       "      <td>0</td>\n",
       "      <td>0</td>\n",
       "      <td>...</td>\n",
       "      <td>7</td>\n",
       "      <td>1050</td>\n",
       "      <td>910</td>\n",
       "      <td>1965</td>\n",
       "      <td>0</td>\n",
       "      <td>98136</td>\n",
       "      <td>47.5208</td>\n",
       "      <td>-122.393</td>\n",
       "      <td>1360</td>\n",
       "      <td>5000</td>\n",
       "    </tr>\n",
       "    <tr>\n",
       "      <th>4</th>\n",
       "      <td>1954400510</td>\n",
       "      <td>20150218T000000</td>\n",
       "      <td>510000.0</td>\n",
       "      <td>3</td>\n",
       "      <td>2.00</td>\n",
       "      <td>1680</td>\n",
       "      <td>8080</td>\n",
       "      <td>1.0</td>\n",
       "      <td>0</td>\n",
       "      <td>0</td>\n",
       "      <td>...</td>\n",
       "      <td>8</td>\n",
       "      <td>1680</td>\n",
       "      <td>0</td>\n",
       "      <td>1987</td>\n",
       "      <td>0</td>\n",
       "      <td>98074</td>\n",
       "      <td>47.6168</td>\n",
       "      <td>-122.045</td>\n",
       "      <td>1800</td>\n",
       "      <td>7503</td>\n",
       "    </tr>\n",
       "  </tbody>\n",
       "</table>\n",
       "<p>5 rows × 21 columns</p>\n",
       "</div>"
      ],
      "text/plain": [
       "           id             date     price  bedrooms  bathrooms  sqft_living  \\\n",
       "0  7129300520  20141013T000000  221900.0         3       1.00         1180   \n",
       "1  6414100192  20141209T000000  538000.0         3       2.25         2570   \n",
       "2  5631500400  20150225T000000  180000.0         2       1.00          770   \n",
       "3  2487200875  20141209T000000  604000.0         4       3.00         1960   \n",
       "4  1954400510  20150218T000000  510000.0         3       2.00         1680   \n",
       "\n",
       "   sqft_lot  floors  waterfront  view  ...  grade  sqft_above  sqft_basement  \\\n",
       "0      5650     1.0           0     0  ...      7        1180              0   \n",
       "1      7242     2.0           0     0  ...      7        2170            400   \n",
       "2     10000     1.0           0     0  ...      6         770              0   \n",
       "3      5000     1.0           0     0  ...      7        1050            910   \n",
       "4      8080     1.0           0     0  ...      8        1680              0   \n",
       "\n",
       "   yr_built  yr_renovated  zipcode      lat     long  sqft_living15  \\\n",
       "0      1955             0    98178  47.5112 -122.257           1340   \n",
       "1      1951          1991    98125  47.7210 -122.319           1690   \n",
       "2      1933             0    98028  47.7379 -122.233           2720   \n",
       "3      1965             0    98136  47.5208 -122.393           1360   \n",
       "4      1987             0    98074  47.6168 -122.045           1800   \n",
       "\n",
       "   sqft_lot15  \n",
       "0        5650  \n",
       "1        7639  \n",
       "2        8062  \n",
       "3        5000  \n",
       "4        7503  \n",
       "\n",
       "[5 rows x 21 columns]"
      ]
     },
     "execution_count": 4,
     "metadata": {},
     "output_type": "execute_result"
    }
   ],
   "source": [
    "data.head(5)"
   ]
  },
  {
   "cell_type": "code",
   "execution_count": 14,
   "id": "58fad1b4",
   "metadata": {},
   "outputs": [],
   "source": [
    "#Adecuacion de los datos\n",
    "\n",
    "data['date'] = pd.to_datetime(data['date'],format = '%Y-%m-%d')\n",
    "data.loc[data['yr_renovated'] != 0, 'yr_renovated'] = pd.to_datetime(data.loc[data['yr_renovated'] != 0, 'yr_renovated'], format = '%Y')\n",
    "\n",
    "df_aux = data\n",
    "\n",
    "df_aux['yr_renovated_dummy'] = data['yr_renovated'].apply(lambda x: 1 if x!=0 else 0)\n",
    "df_aux = df_aux.drop(['yr_renovated'], axis=1)\n",
    "df_aux['property_age'] = 2015 - data['yr_built']\n",
    "columns = ['price','bedrooms', 'bathrooms', 'sqft_living','waterfront', 'view', 'condition', 'grade','yr_renovated_dummy', 'property_age']\n",
    "df_aux = df_aux[columns]\n",
    "\n",
    "Y = df_aux['price']\n",
    "\n",
    "\n",
    "X= df_aux\n",
    "X = X.drop(columns = ['price'])\n",
    "\n"
   ]
  },
  {
   "cell_type": "markdown",
   "id": "40b05106",
   "metadata": {},
   "source": [
    "# Modelo de entrenamiento"
   ]
  },
  {
   "cell_type": "code",
   "execution_count": 6,
   "id": "55430198",
   "metadata": {},
   "outputs": [],
   "source": [
    "X_train, X_test, Y_train, Y_test = train_test_split(X, Y, test_size = 0.2, random_state = 0)\n",
    "\n",
    "modelo_entrenamiento = LinearRegression().fit(X_train, Y_train)\n"
   ]
  },
  {
   "cell_type": "code",
   "execution_count": 7,
   "id": "1d00a258",
   "metadata": {},
   "outputs": [
    {
     "name": "stdout",
     "output_type": "stream",
     "text": [
      "R2: 0.65\n",
      "MSE: 48311315952.41\n",
      "RMSE: 219798.35\n",
      "MAE: 142347\n"
     ]
    }
   ],
   "source": [
    "#TRAIN\n",
    "\n",
    "Y_predict = modelo_entrenamiento.predict(X_train)\n",
    "\n",
    "\n",
    "#Entrenamiento\n",
    "print(\"R2: %.2f\" % r2_score(Y_train, Y_predict) )\n",
    "\n",
    "print(\"MSE: %.2f\" % mean_squared_error(Y_train, Y_predict, squared =True))\n",
    "\n",
    "print(\"RMSE: %.2f\" % mean_squared_error(Y_train, Y_predict, squared = False))\n",
    "\n",
    "print(\"MAE: %2.f\" % mean_absolute_error(Y_train, Y_predict))\n"
   ]
  },
  {
   "cell_type": "code",
   "execution_count": 8,
   "id": "49973c69",
   "metadata": {},
   "outputs": [
    {
     "name": "stdout",
     "output_type": "stream",
     "text": [
      "R^2: 0.64\n",
      "MSE: 42285828321.69\n",
      "RMSE: 205635.18\n",
      "MAE: 136277\n"
     ]
    }
   ],
   "source": [
    "#TEST\n",
    "\n",
    "Y_predict_test = modelo_entrenamiento.predict(X_test)\n",
    "\n",
    "print(\"R^2: %.2f\" % r2_score(Y_test, Y_predict_test) )\n",
    "\n",
    "print(\"MSE: %.2f\" % mean_squared_error(Y_test, Y_predict_test, squared =True))\n",
    "\n",
    "print(\"RMSE: %.2f\" % mean_squared_error(Y_test, Y_predict_test, squared = False))\n",
    "\n",
    "print(\"MAE: %2.f\" % mean_absolute_error(Y_test, Y_predict_test))\n"
   ]
  },
  {
   "cell_type": "code",
   "execution_count": 9,
   "id": "a1127803",
   "metadata": {
    "scrolled": true
   },
   "outputs": [
    {
     "name": "stdout",
     "output_type": "stream",
     "text": [
      "R^2: 0.65\n",
      "MSE: 47106106910.28\n",
      "RMSE: 217039.41\n",
      "MAE: 141133\n"
     ]
    }
   ],
   "source": [
    "#PRUEBA TOTAL\n",
    "\n",
    "Y_predict_total = modelo_entrenamiento.predict(X)\n",
    "\n",
    "print(\"R^2: %.2f\" % r2_score(Y, Y_predict_total) )\n",
    "\n",
    "print(\"MSE: %.2f\" % mean_squared_error(Y, Y_predict_total, squared =True))\n",
    "\n",
    "print(\"RMSE: %.2f\" % mean_squared_error(Y, Y_predict_total, squared = False))\n",
    "\n",
    "print(\"MAE: %2.f\" % mean_absolute_error(Y, Y_predict_total))\n"
   ]
  },
  {
   "cell_type": "code",
   "execution_count": 10,
   "id": "312e08ff",
   "metadata": {
    "scrolled": true
   },
   "outputs": [
    {
     "data": {
      "text/html": [
       "<div>\n",
       "<style scoped>\n",
       "    .dataframe tbody tr th:only-of-type {\n",
       "        vertical-align: middle;\n",
       "    }\n",
       "\n",
       "    .dataframe tbody tr th {\n",
       "        vertical-align: top;\n",
       "    }\n",
       "\n",
       "    .dataframe thead th {\n",
       "        text-align: right;\n",
       "    }\n",
       "</style>\n",
       "<table border=\"1\" class=\"dataframe\">\n",
       "  <thead>\n",
       "    <tr style=\"text-align: right;\">\n",
       "      <th></th>\n",
       "      <th>Precio Real</th>\n",
       "      <th>Precio Modelo</th>\n",
       "    </tr>\n",
       "  </thead>\n",
       "  <tbody>\n",
       "    <tr>\n",
       "      <th>0</th>\n",
       "      <td>221900.0</td>\n",
       "      <td>296557.437548</td>\n",
       "    </tr>\n",
       "    <tr>\n",
       "      <th>1</th>\n",
       "      <td>538000.0</td>\n",
       "      <td>628211.712218</td>\n",
       "    </tr>\n",
       "    <tr>\n",
       "      <th>2</th>\n",
       "      <td>180000.0</td>\n",
       "      <td>214829.697950</td>\n",
       "    </tr>\n",
       "    <tr>\n",
       "      <th>3</th>\n",
       "      <td>604000.0</td>\n",
       "      <td>491600.866246</td>\n",
       "    </tr>\n",
       "    <tr>\n",
       "      <th>4</th>\n",
       "      <td>510000.0</td>\n",
       "      <td>446680.451301</td>\n",
       "    </tr>\n",
       "  </tbody>\n",
       "</table>\n",
       "</div>"
      ],
      "text/plain": [
       "   Precio Real  Precio Modelo\n",
       "0     221900.0  296557.437548\n",
       "1     538000.0  628211.712218\n",
       "2     180000.0  214829.697950\n",
       "3     604000.0  491600.866246\n",
       "4     510000.0  446680.451301"
      ]
     },
     "execution_count": 10,
     "metadata": {},
     "output_type": "execute_result"
    }
   ],
   "source": [
    "comparacion = pd.DataFrame({'Precio Real': Y, 'Precio Modelo': Y_predict_total })\n",
    "\n",
    "comparacion.head(5)"
   ]
  },
  {
   "cell_type": "markdown",
   "id": "a6459f6e",
   "metadata": {},
   "source": [
    "# FUNCIONAMIENTO FINAL"
   ]
  },
  {
   "cell_type": "code",
   "execution_count": 11,
   "id": "215b0e8f",
   "metadata": {
    "scrolled": true
   },
   "outputs": [
    {
     "data": {
      "text/plain": [
       "Index(['bedrooms', 'bathrooms', 'sqft_living', 'waterfront', 'view',\n",
       "       'condition', 'grade', 'yr_renovated_dummy', 'property_age'],\n",
       "      dtype='object')"
      ]
     },
     "execution_count": 11,
     "metadata": {},
     "output_type": "execute_result"
    }
   ],
   "source": [
    "X.columns"
   ]
  },
  {
   "cell_type": "code",
   "execution_count": 17,
   "id": "4a67d6e0",
   "metadata": {},
   "outputs": [
    {
     "data": {
      "text/plain": [
       "array([1270357.5919599])"
      ]
     },
     "execution_count": 17,
     "metadata": {},
     "output_type": "execute_result"
    }
   ],
   "source": [
    "### Index(['bedrooms', 'bathrooms', 'sqft_living', 'waterfront', 'view',\n",
    "###       'condition', 'grade', 'yr_renovated_dummy', 'property_age'],\n",
    "###      dtype='object') \n",
    "\n",
    "Prediccion = modelo_entrenamiento.predict([[2,3,2000,1,2,5,8,1,11]])\n",
    "\n",
    "Prediccion\n"
   ]
  },
  {
   "cell_type": "code",
   "execution_count": null,
   "id": "f2575d4b",
   "metadata": {},
   "outputs": [],
   "source": []
  }
 ],
 "metadata": {
  "kernelspec": {
   "display_name": "Python 3 (ipykernel)",
   "language": "python",
   "name": "python3"
  },
  "language_info": {
   "codemirror_mode": {
    "name": "ipython",
    "version": 3
   },
   "file_extension": ".py",
   "mimetype": "text/x-python",
   "name": "python",
   "nbconvert_exporter": "python",
   "pygments_lexer": "ipython3",
   "version": "3.9.12"
  }
 },
 "nbformat": 4,
 "nbformat_minor": 5
}
